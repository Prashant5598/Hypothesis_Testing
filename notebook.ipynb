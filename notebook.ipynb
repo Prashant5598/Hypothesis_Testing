{
 "cells": [
  {
   "cell_type": "markdown",
   "id": "3ed0edb2-696b-49ab-9db0-681defcce695",
   "metadata": {},
   "source": [
    "We are working as a sports journalist at a major online sports media company, specializing in soccer analysis and reporting. We have been watching both men's and women's international soccer matches for a number of years, and your gut instinct tells you that more goals are scored in women's international football matches than men's. This would make an interesting investigative article that your subscribers are bound to love, but we will need to perform a valid statistical hypothesis test to be sure!\n",
    "\n",
    "While scoping this project, you acknowledge that the sport has changed a lot over the years, and performances likely vary a lot depending on the tournament, so we decided to limit the data used in the analysis to only official `FIFA World Cup` matches (not including qualifiers) since `2002-01-01`.\n",
    "\n",
    "We created two datasets containing the results of every official men's and women's international football match since the 19th century, which we scraped from a reliable online source. This data is stored in two CSV files: `women_results.csv` and `men_results.csv`.\n",
    "\n",
    "The question we are trying to determine the answer to is:\n",
    "\n",
    "> Are more goals scored in women's international soccer matches than men's?\n",
    "\n",
    "You assume a **10% significance level**, and use the following null and alternative hypotheses:\n",
    "\n",
    "$H_0$ : The mean number of goals scored in women's international soccer matches is the same as men's.\n",
    "\n",
    "$H_A$ : The mean number of goals scored in women's international soccer matches is greater than men's."
   ]
  },
  {
   "cell_type": "code",
   "execution_count": 10,
   "id": "84a3c4c8-534b-4d1a-9919-17e05208b2ca",
   "metadata": {
    "executionCancelledAt": null,
    "executionTime": 58,
    "lastExecutedAt": 1703485560382,
    "lastScheduledRunId": null,
    "lastSuccessfullyExecutedCode": "# Start your code here!\nimport pandas as pd\nimport matplotlib.pyplot as plt\nimport pingouin\nfrom scipy.stats import mannwhitneyu\n\n# Load men's and women's datasets\nmen = pd.read_csv(\"men_results.csv\")\nwomen = pd.read_csv(\"women_results.csv\")"
   },
   "outputs": [],
   "source": [
    "# Start your code here!\n",
    "import pandas as pd\n",
    "import matplotlib.pyplot as plt\n",
    "import seaborn as sns\n",
    "import pingouin\n",
    "from scipy.stats import mannwhitneyu\n",
    "\n",
    "# Load men's and women's datasets\n",
    "men = pd.read_csv(\"men_results.csv\")\n",
    "women = pd.read_csv(\"women_results.csv\")"
   ]
  },
  {
   "cell_type": "code",
   "execution_count": 13,
   "id": "7d28001c-7a51-42d1-9571-1daf525d47e0",
   "metadata": {
    "executionCancelledAt": null,
    "executionTime": 242,
    "lastExecutedAt": 1703485560625,
    "lastScheduledRunId": null,
    "lastSuccessfullyExecutedCode": "# Filter the data for the time range and tournament\nmen[\"date\"] = pd.to_datetime(men[\"date\"])\nmen_subset = men[(men[\"date\"] > \"2002-01-01\") & (men[\"tournament\"].isin([\"FIFA World Cup\"]))]\nwomen[\"date\"] = pd.to_datetime(women[\"date\"])\nwomen_subset = women[(women[\"date\"] > \"2002-01-01\") & (women[\"tournament\"].isin([\"FIFA World Cup\"]))]\n\n# Create group and goals_scored columns\nmen_subset[\"group\"] = \"men\"\nwomen_subset[\"group\"] = \"women\"\nmen_subset[\"goals_scored\"] = men_subset[\"home_score\"] + men_subset[\"away_score\"]\nwomen_subset[\"goals_scored\"] = women_subset[\"home_score\"] + women_subset[\"away_score\"]\n\n# Determine normality using histograms\nmen_subset[\"goals_scored\"].hist()\nplt.show()\nplt.clf()\n\n# Goals scored is not normally distributed, so use Wilcoxon-Mann-Whitney test of two groups\nmen_subset[\"goals_scored\"].hist()\nplt.show()\nplt.clf()\n"
   },
   "outputs": [
    {
     "data": {
      "image/png": "[encoded data removed]",
      "text/plain": [
       "<Figure size 720x432 with 2 Axes>"
      ]
     },
     "metadata": {
      "needs_background": "light"
     },
     "output_type": "display_data"
    },
    {
     "data": {
      "text/plain": [
       "<Figure size 432x288 with 0 Axes>"
      ]
     },
     "metadata": {},
     "output_type": "display_data"
    }
   ],
   "source": [
    "# Filter the data for the time range and tournament\n",
    "men[\"date\"] = pd.to_datetime(men[\"date\"])\n",
    "women[\"date\"] = pd.to_datetime(women[\"date\"])\n",
    "\n",
    "men_subset = men.loc[(men[\"date\"] > \"2002-01-01\") & (men[\"tournament\"].isin([\"FIFA World Cup\"])), :].copy()\n",
    "women_subset = women.loc[(women[\"date\"] > \"2002-01-01\") & (women[\"tournament\"].isin([\"FIFA World Cup\"])), :].copy()\n",
    "\n",
    "# Create group and goals_scored columns using .loc\n",
    "men_subset.loc[:, \"group\"] = \"Men\"\n",
    "women_subset.loc[:, \"group\"] = \"Women\"\n",
    "men_subset.loc[:, \"goals_scored\"] = men_subset[\"home_score\"] + men_subset[\"away_score\"]\n",
    "women_subset.loc[:, \"goals_scored\"] = women_subset[\"home_score\"] + women_subset[\"away_score\"]\n",
    "\n",
    "# Determine normality using histograms\n",
    "plt.figure(figsize=(10, 6))\n",
    "\n",
    "plt.subplot(2, 1, 1)\n",
    "sns.histplot(data=men_subset, x=\"goals_scored\", kde=True, color='blue')\n",
    "plt.title('Distribution of Goals Scored (Men)')\n",
    "\n",
    "plt.subplot(2, 1, 2)\n",
    "sns.histplot(data=women_subset, x=\"goals_scored\", kde=True, color='orange')\n",
    "plt.title('Distribution of Goals Scored (Women)')\n",
    "\n",
    "plt.tight_layout()\n",
    "plt.show()\n",
    "plt.clf()\n"
   ]
  },
  {
   "cell_type": "code",
   "execution_count": 15,
   "id": "389864eb-1033-4252-bb9d-b5a236e2c69b",
   "metadata": {
    "executionCancelledAt": null,
    "executionTime": 49,
    "lastExecutedAt": 1703485560675,
    "lastScheduledRunId": null,
    "lastSuccessfullyExecutedCode": "# Combine women's and men's data and calculate goals scored in each match\nboth = pd.concat([women_subset, men_subset], axis=0, ignore_index=True)\n\n# Transform the data for the pingouin Mann-Whitney U t-test/Wilcoxon-Mann-Whitney test\nboth_subset = both[[\"goals_scored\", \"group\"]]\nboth_subset_wide = both_subset.pivot(columns=\"group\", values=\"goals_scored\")\n\n# Perform right-tailed Wilcoxon-Mann-Whitney test with pingouin\nresults_pg = pingouin.mwu(x=both_subset_wide[\"women\"],\n                          y=both_subset_wide[\"men\"],\n                          alternative=\"greater\")\n\n# Alternative SciPy solution: Perform right-tailed Wilcoxon-Mann-Whitney test with scipy\nresults_scipy = mannwhitneyu(x=women_subset[\"goals_scored\"],\n                             y=men_subset[\"goals_scored\"],\n                             alternative=\"greater\")\n\n# Extract p-value as a float\np_val = results_pg[\"p-val\"].values[0]\n\n# Determine hypothesis test result using sig. level\nif p_val <= 0.01:\n    result = \"reject\"\nelse:\n    result = \"fail to reject\"\n\nresult_dict = {\"p_val\": p_val, \"result\": result}"
   },
   "outputs": [
    {
     "name": "stdout",
     "output_type": "stream",
     "text": [
      "Index(['Men', 'Women'], dtype='object', name='group')\n",
      "{'p_val': 0.005106609825443641, 'result': 'reject'}\n"
     ]
    }
   ],
   "source": [
    "# Combine women's and men's data and calculate goals scored in each match\n",
    "both = pd.concat([women_subset, men_subset], axis=0, ignore_index=True)\n",
    "\n",
    "# Transform the data for the pingouin Mann-Whitney U test/Wilcoxon-Mann-Whitney test\n",
    "both_subset = both[[\"goals_scored\", \"group\"]]\n",
    "both_subset_wide = both_subset.pivot(columns=\"group\", values=\"goals_scored\")\n",
    "\n",
    "# Check column names in both_subset_wide\n",
    "print(both_subset_wide.columns)\n",
    "\n",
    "# Perform right-tailed Wilcoxon-Mann-Whitney test with pingouin\n",
    "results_pg = pingouin.mwu(x=both_subset_wide[\"Women\"],  # Check the correct column name\n",
    "                          y=both_subset_wide[\"Men\"],    # Check the correct column name\n",
    "                          alternative=\"greater\")\n",
    "\n",
    "# Alternative SciPy solution: Perform right-tailed Wilcoxon-Mann-Whitney test with scipy\n",
    "results_scipy = mannwhitneyu(x=women_subset[\"goals_scored\"],\n",
    "                             y=men_subset[\"goals_scored\"],\n",
    "                             alternative=\"greater\")\n",
    "\n",
    "# Extract p-value as a float\n",
    "p_val = results_pg[\"p-val\"].values[0]\n",
    "\n",
    "# Determine hypothesis test result using significance level\n",
    "alpha = 0.01\n",
    "result = \"reject\" if p_val <= alpha else \"fail to reject\"\n",
    "\n",
    "result_dict = {\"p_val\": p_val, \"result\": result}\n",
    "\n",
    "# Display the result dictionary\n",
    "print(result_dict)"
   ]
  },
  {
   "cell_type": "code",
   "execution_count": null,
   "id": "b62a60e9",
   "metadata": {},
   "outputs": [],
   "source": []
  }
 ],
 "metadata": {
  "colab": {
   "name": "Welcome to DataCamp Workspaces.ipynb",
   "provenance": []
  },
  "kernelspec": {
   "display_name": "Python 3 (ipykernel)",
   "language": "python",
   "name": "python3"
  },
  "language_info": {
   "codemirror_mode": {
    "name": "ipython",
    "version": 3
   },
   "file_extension": ".py",
   "mimetype": "text/x-python",
   "name": "python",
   "nbconvert_exporter": "python",
   "pygments_lexer": "ipython3",
   "version": "3.8.8"
  }
 },
 "nbformat": 4,
 "nbformat_minor": 5
}
